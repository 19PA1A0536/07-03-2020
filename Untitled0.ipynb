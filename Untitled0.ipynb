{
  "nbformat": 4,
  "nbformat_minor": 0,
  "metadata": {
    "colab": {
      "name": "Untitled0.ipynb",
      "provenance": [],
      "collapsed_sections": [],
      "authorship_tag": "ABX9TyNnzhPQ7sE7I9P5IwpvLg/j",
      "include_colab_link": true
    },
    "kernelspec": {
      "name": "python3",
      "display_name": "Python 3"
    }
  },
  "cells": [
    {
      "cell_type": "markdown",
      "metadata": {
        "id": "view-in-github",
        "colab_type": "text"
      },
      "source": [
        "<a href=\"https://colab.research.google.com/github/19PA1A0536/07-03-2020/blob/master/Untitled0.ipynb\" target=\"_parent\"><img src=\"https://colab.research.google.com/assets/colab-badge.svg\" alt=\"Open In Colab\"/></a>"
      ]
    },
    {
      "cell_type": "code",
      "metadata": {
        "id": "l_PAAjwmQX5O",
        "colab_type": "code",
        "colab": {}
      },
      "source": [
        "import numpy as np\n",
        "import pandas as pd \n",
        "import matplotlib.pyplot as plt\n",
        "from sklearn.model_selection import train_test_split\n",
        "from sklearn import svm, datasets\n"
      ],
      "execution_count": 0,
      "outputs": []
    },
    {
      "cell_type": "code",
      "metadata": {
        "id": "fpqLMuPrmgDx",
        "colab_type": "code",
        "outputId": "823ee068-f59b-4cc4-a2f8-43ff7834cff6",
        "colab": {
          "base_uri": "https://localhost:8080/",
          "height": 204
        }
      },
      "source": [
        "df=pd.read_csv('Iris.csv')\n",
        "df.head()"
      ],
      "execution_count": 0,
      "outputs": [
        {
          "output_type": "execute_result",
          "data": {
            "text/html": [
              "<div>\n",
              "<style scoped>\n",
              "    .dataframe tbody tr th:only-of-type {\n",
              "        vertical-align: middle;\n",
              "    }\n",
              "\n",
              "    .dataframe tbody tr th {\n",
              "        vertical-align: top;\n",
              "    }\n",
              "\n",
              "    .dataframe thead th {\n",
              "        text-align: right;\n",
              "    }\n",
              "</style>\n",
              "<table border=\"1\" class=\"dataframe\">\n",
              "  <thead>\n",
              "    <tr style=\"text-align: right;\">\n",
              "      <th></th>\n",
              "      <th>Id</th>\n",
              "      <th>SepalLengthCm</th>\n",
              "      <th>SepalWidthCm</th>\n",
              "      <th>PetalLengthCm</th>\n",
              "      <th>PetalWidthCm</th>\n",
              "      <th>Species</th>\n",
              "    </tr>\n",
              "  </thead>\n",
              "  <tbody>\n",
              "    <tr>\n",
              "      <th>0</th>\n",
              "      <td>1</td>\n",
              "      <td>5.1</td>\n",
              "      <td>3.5</td>\n",
              "      <td>1.4</td>\n",
              "      <td>0.2</td>\n",
              "      <td>Iris-setosa</td>\n",
              "    </tr>\n",
              "    <tr>\n",
              "      <th>1</th>\n",
              "      <td>2</td>\n",
              "      <td>4.9</td>\n",
              "      <td>3.0</td>\n",
              "      <td>1.4</td>\n",
              "      <td>0.2</td>\n",
              "      <td>Iris-setosa</td>\n",
              "    </tr>\n",
              "    <tr>\n",
              "      <th>2</th>\n",
              "      <td>3</td>\n",
              "      <td>4.7</td>\n",
              "      <td>3.2</td>\n",
              "      <td>1.3</td>\n",
              "      <td>0.2</td>\n",
              "      <td>Iris-setosa</td>\n",
              "    </tr>\n",
              "    <tr>\n",
              "      <th>3</th>\n",
              "      <td>4</td>\n",
              "      <td>4.6</td>\n",
              "      <td>3.1</td>\n",
              "      <td>1.5</td>\n",
              "      <td>0.2</td>\n",
              "      <td>Iris-setosa</td>\n",
              "    </tr>\n",
              "    <tr>\n",
              "      <th>4</th>\n",
              "      <td>5</td>\n",
              "      <td>5.0</td>\n",
              "      <td>3.6</td>\n",
              "      <td>1.4</td>\n",
              "      <td>0.2</td>\n",
              "      <td>Iris-setosa</td>\n",
              "    </tr>\n",
              "  </tbody>\n",
              "</table>\n",
              "</div>"
            ],
            "text/plain": [
              "   Id  SepalLengthCm  SepalWidthCm  PetalLengthCm  PetalWidthCm      Species\n",
              "0   1            5.1           3.5            1.4           0.2  Iris-setosa\n",
              "1   2            4.9           3.0            1.4           0.2  Iris-setosa\n",
              "2   3            4.7           3.2            1.3           0.2  Iris-setosa\n",
              "3   4            4.6           3.1            1.5           0.2  Iris-setosa\n",
              "4   5            5.0           3.6            1.4           0.2  Iris-setosa"
            ]
          },
          "metadata": {
            "tags": []
          },
          "execution_count": 42
        }
      ]
    },
    {
      "cell_type": "code",
      "metadata": {
        "id": "HLOYDsdem4Bu",
        "colab_type": "code",
        "outputId": "086fdc8e-92d7-4fec-ce55-0e51a75f9c59",
        "colab": {
          "base_uri": "https://localhost:8080/",
          "height": 34
        }
      },
      "source": [
        "df.shape"
      ],
      "execution_count": 0,
      "outputs": [
        {
          "output_type": "execute_result",
          "data": {
            "text/plain": [
              "(150, 6)"
            ]
          },
          "metadata": {
            "tags": []
          },
          "execution_count": 43
        }
      ]
    },
    {
      "cell_type": "code",
      "metadata": {
        "id": "hf2XkClynAa7",
        "colab_type": "code",
        "outputId": "ff5fbcc3-7044-42a5-f2ac-05bcc3d9e068",
        "colab": {
          "base_uri": "https://localhost:8080/",
          "height": 136
        }
      },
      "source": [
        "df.isna().any()"
      ],
      "execution_count": 0,
      "outputs": [
        {
          "output_type": "execute_result",
          "data": {
            "text/plain": [
              "Id               False\n",
              "SepalLengthCm    False\n",
              "SepalWidthCm     False\n",
              "PetalLengthCm    False\n",
              "PetalWidthCm     False\n",
              "Species          False\n",
              "dtype: bool"
            ]
          },
          "metadata": {
            "tags": []
          },
          "execution_count": 44
        }
      ]
    },
    {
      "cell_type": "code",
      "metadata": {
        "id": "_OnYTlcZnLnu",
        "colab_type": "code",
        "colab": {}
      },
      "source": [
        "x=df[['SepalLengthCm','SepalWidthCm','PetalLengthCm','PetalWidthCm']]\n",
        "y=df[['Species']]"
      ],
      "execution_count": 0,
      "outputs": []
    },
    {
      "cell_type": "code",
      "metadata": {
        "id": "uyp2mNCgekgk",
        "colab_type": "code",
        "colab": {}
      },
      "source": [
        "X_train,X_test,y_train,y_test=train_test_split(X,y,test_size=0.2,random_state=42)"
      ],
      "execution_count": 0,
      "outputs": []
    },
    {
      "cell_type": "code",
      "metadata": {
        "id": "-mMkB8ZSow9g",
        "colab_type": "code",
        "colab": {}
      },
      "source": [
        ""
      ],
      "execution_count": 0,
      "outputs": []
    },
    {
      "cell_type": "code",
      "metadata": {
        "id": "Szb-_V4YJdfX",
        "colab_type": "code",
        "outputId": "91a0c18e-c62a-4420-b8cc-264cacb4c1b7",
        "colab": {
          "base_uri": "https://localhost:8080/",
          "height": 141
        }
      },
      "source": [
        "model=SVC(kernel='linear')\n",
        "model.fit(x_train,y_train)"
      ],
      "execution_count": 0,
      "outputs": [
        {
          "output_type": "stream",
          "text": [
            "/usr/local/lib/python3.6/dist-packages/sklearn/utils/validation.py:760: DataConversionWarning: A column-vector y was passed when a 1d array was expected. Please change the shape of y to (n_samples, ), for example using ravel().\n",
            "  y = column_or_1d(y, warn=True)\n"
          ],
          "name": "stderr"
        },
        {
          "output_type": "execute_result",
          "data": {
            "text/plain": [
              "SVC(C=1.0, break_ties=False, cache_size=200, class_weight=None, coef0=0.0,\n",
              "    decision_function_shape='ovr', degree=3, gamma='scale', kernel='linear',\n",
              "    max_iter=-1, probability=False, random_state=None, shrinking=True,\n",
              "    tol=0.001, verbose=False)"
            ]
          },
          "metadata": {
            "tags": []
          },
          "execution_count": 47
        }
      ]
    },
    {
      "cell_type": "markdown",
      "metadata": {
        "id": "BEOX2ChypbKt",
        "colab_type": "text"
      },
      "source": [
        "# ***Confusion matrix:***\n",
        "A confusion matrix consists of number of correct predictions and number of incorrect predictions.A confusion matrix values can be used to calculate accuracy,recall,precision.\n"
      ]
    },
    {
      "cell_type": "markdown",
      "metadata": {
        "id": "qsIVRoLBqMVX",
        "colab_type": "text"
      },
      "source": [
        "----A confusion matrix is a table that is often used to describe the performance of a classification model (or “classifier”) on a set of test data for which the true values are known. It allows the visualization of the performance of an algorithm."
      ]
    },
    {
      "cell_type": "code",
      "metadata": {
        "id": "4HsZ3xqLKUk_",
        "colab_type": "code",
        "outputId": "1982777b-2fcb-45a8-c69c-182857f7ab8c",
        "colab": {
          "base_uri": "https://localhost:8080/",
          "height": 69
        }
      },
      "source": [
        "print(confusion_matrix(y_test,y_pred))"
      ],
      "execution_count": 0,
      "outputs": [
        {
          "output_type": "stream",
          "text": [
            "[[10  0  0]\n",
            " [ 0  9  0]\n",
            " [ 0  0 11]]\n"
          ],
          "name": "stdout"
        }
      ]
    },
    {
      "cell_type": "markdown",
      "metadata": {
        "id": "cvCuQxTWsKHo",
        "colab_type": "text"
      },
      "source": [
        "# ***Accuracy:***\n",
        "Accuracy is the number of correctly predicted data points out of all the data points.\n",
        "\n"
      ]
    },
    {
      "cell_type": "markdown",
      "metadata": {
        "id": "5RSQFYp9ugW5",
        "colab_type": "text"
      },
      "source": [
        "## (TP+TN)/(TP+TN+FP+FN...)"
      ]
    },
    {
      "cell_type": "code",
      "metadata": {
        "id": "a04EpoX_ME6t",
        "colab_type": "code",
        "outputId": "81d7d15d-ced2-4cfb-e237-8ec11bd70556",
        "colab": {
          "base_uri": "https://localhost:8080/",
          "height": 35
        }
      },
      "source": [
        "print(accuracy_score(y_test,y_pred))"
      ],
      "execution_count": 0,
      "outputs": [
        {
          "output_type": "stream",
          "text": [
            "1.0\n"
          ],
          "name": "stdout"
        }
      ]
    },
    {
      "cell_type": "markdown",
      "metadata": {
        "id": "3vF0zyZtyhUr",
        "colab_type": "text"
      },
      "source": [
        "# Example of Confusion Matrix:"
      ]
    },
    {
      "cell_type": "markdown",
      "metadata": {
        "id": "ZrafT_3UtMRC",
        "colab_type": "text"
      },
      "source": [
        "![image.png](data:image/png;base64,iVBORw0KGgoAAAANSUhEUgAAAx0AAAEiCAYAAACcKr/CAAAgAElEQVR4Ae2dv84suXG3dQVKN9EVKN5IF7Cxor0Cx4JT34EVKXS+gOFI4QEMpavIgGMrFRQ42sQ38H54dr/fbp06Rfaf6eZ0s38E+rC7WSxWPSRnqqZn3vOrDxcTMAETMAETMAETMAETMAETOJHAr07UbdUmYAImYAImYAImYAImYAIm8OGkw4vABEzABEzABEzABEzABEzgVAJOOk7Fa+UmYAImYAImYAImYAImYAJOOrwGTMAETMAETMAETMAETMAETiXgpONUvFZuAiZgAiZgAiZgAiZgAibgpMNrwARMwARMwARMwARMwARM4FQCTjpOxWvlJmACJmACJmACJmACJmACTjq8BkzABEzABEzABEzABEzABE4l4KTjVLxWbgImYAImYAImYAImYAIm4KTDa8AETMAETMAETMAETMAETOBUAk46TsVr5SZgAiZgAiZgAiZgAiZgAk46vAZMwARMwARMwARMwARMwAROJeCk41S8Vm4CJmACJmACJmACJmACJuCkw2vABEzABEzABEzABEzABEzgVAJOOk7Fa+UmYAImYAImYAImYAImYAJOOrwGTMAETMAETMAETMAETMAETiXgpONUvFZuAiZgAiZgAiZgAiZgAibgpMNrwARMwARMwARMwARMwARM4FQCTjpOxWvlJmACJmACJmACJmACJmACTjq8BkzABEzABEzABEzABEzABE4l4KTjVLxWbgImYAImYAImYAImYAIm4KTDa8AETMAETMAETMAETMAETOBUAk46TsVr5SZgAiZgAiZgAiZgAiZgAk46vAZMwARMwARMwARMwARMwAROJeCk41S8Vm4CJmACJmACJmACJmACJuCkw2vABEzABEzABEzABEzABEzgVAJOOk7Fa+UmYAImYAImYAImYAImYAJOOrwGTMAETMAETMAETMAETMAETiXgpONUvFZuAiZgAiZgAiZgAiZgAibgpMNrwARM4HYEfvWrX334MAOvAa8BrwGvAa+B19bAyADAScdI2h7LBEzgEAK8ybiYgAmYgAmYgAnsJzD6vdTv3Pvnyj1NwATeRGD0C+Wb3PSwJmACJmACJnAagdHvpU46TptKKzYBEziLwOgXyrP8sF4TMAETMAETeBeB0e+lTjreNdMe1wRMYDeB0S+Uuw11RxMwARMwARO4KIHR76VOOi66EGyWCZhAm8DoF8q2JW4xARMwARMwgXsSGP1e6qTjnuvEVpvAowmMfqF8NGw7bwImYAImMCWB0e+lTjqmXEZ2ygTmJjD6hXJumvbOBJ5F4G9/+9vHH/7wh48//vGPz3Lc3ppAIjD6vdRJR5oAX5qACVyfwOgXyusTsYUm8CUBguqvvvrqy4YH3vnhhx8+vvvuu4+vv/765//jx0nHAxeCXf6MwOj3Uicdn+H3hQmYwB0IjH6hvAMT22gCmYAC7O+//z43Pe76m2+++TnZ4PWDw1wetwzscCIw+r3USUeaAF+agAlcn8DoF8rrE7GFJvA5AT7VV3DNV4lGFp4gjB5zrX/YJS5OOtZSs9ysBEa/lzrpmHUl2S8TmJjA6BfKiVHatUkJ5E/2+R3DiMI4fKXrql9dwi4nHSNWgse4A4HR76VOOu6wKmyjCZjAZwRGv1B+NrgvTODiBAj82SP6ehXnI5IAfjehMUeMt2canHTsoeY+sxIY/V7qpGPWlWS/TGBiAqNfKCdGadcmJKCvEOmpA/vl7B+Ux69zMd6nT58uSdZJxyWnxUa9icDo91InHW+aaA9rAiawn8DoF8r9lrqnCYwloKcc33777Y8Dx2SA861Ff/Upfl2LBIZr9NHObyPYk70De3K7bMSmlg78qQr3SSCyXSRcrT7ocdJR0fS9pxIY/V7qpOOpK81+m8CNCYx+obwxKpv+MAIKqvUjaZICkgT2DAH6lsLTCvrGQJ6AXk9S0Mm5SkwcNL7aqJUo0C/3lRwysheZSo985KtcaqefvtpFf/yuivq2dFd9fM8EZiXAPhhZxo420jOPZQImMC2B0S+U04K0Y9MRIODmiCUmCQrSY3t1rickracjesIQ29HN3lwK6CVDAlAV6W7tcyUOObEg8VjSrb5LNlZ2+Z4JzEagtcfO8tNJx1lkrdcETOA0AqNfKE9zxIpN4EACrUQhBuPxyURraD1tyMlLlOcpCPsQWZWjko6YJEl3rElKYrIT27CJo5XQOOmItHz+dAKj30uddDx9xdl/E7ghgdEvlDdEZJMfSICvF7W+WhSfHsREocKkoL8VuNNHCUbsr0SE/dl7okI7R0t/TAyi/jXnW3T3bFwzlmVM4O4E2C8jy9jRRnrmsUzABKYlMPqFclqQdmwaAkoCWk8y9BSkF+wDg68sKXDf+heoYrLQC+il/8ikA1tjYrVGd8/GaRaGHTGBDoHR76VOOjqT4SYTMIFrEhj9QnlNCrbKBH4hoL8O1XuKwVMQBfz59xDSpOQFua1B+TuSDpIp/OLQExpsd9KhGXVtAm0Co99LnXS058ItJmACFyUw+oXyohhslgn8SIBEgz2x5WgF5XdJOmKygS9KosSg5R/3JbM1qfJyM4HZCLAXRpaxo430zGOZgAlMS2D0C+W0IO3YFAT0CX/rx9VyMiYnPBmoSkw6lvTl/msDegX9axKDPAbX8pffsOQnO1t0O+mo6PrekwiMfi910vGk1WVfTWASAqNfKCfBZjcmJMAn/Pp60Rr39DUs9lCVVMSko/X7kNY4RyUdSiqqfY7N3MdnPd2I9tDGsSahcdIRyfn8iQSqPXYmBycdZ9K1bhMwgVMIjH6hPMUJKzWBAwgo0G8F2XmI+BemeFKQC4G8AvdWYJ/76Fq20L8X0Et/y2b9J3/VPtePxamrsqR7rY2Vbt8zgdkIVHvsTB+ddJxJ17pNwAROITD6hfIUJ6zUBF4koKcc7IfqU/+WepIJBefV0474NITzViGAj4lDDOgrvdKj8aukJz5pwcacvCjpWOob7dK41NHGrDvK+dwEnkBg9Hupk44nrCr7aAKTERj9QjkZPrszCQEF0Fu/BqWvKLGPqicG/E5CiYFk9NsJkhv6007gr/sgzU9RkKUdO2MSEpMa2pCLeuPYjM+BHCX2ld+xr+TlFzLxT/+KGXLx/iRLwm6YwCYC7IORZexoIz3zWCZgAtMSGP1COS1IO3ZLAgrkY4DNp/YE30sFuRi4o4NrAvDYH7kq+NeYSgLieNil9lgrOZAsumN7PEeHnmYwfk4aWn2RJbHJvmls9CpZ0ngkTdyLfstG1ybwBALshZFl7GgjPfNYJmAC0xIY/UI5LUg7djsCraCbPaFP91tOKZhX0J3r3J9AnaA9Jh8E9djQKiQvkkdfSxY5gn7ZgF7Go3BfT0CqcWJfJSbqS63xY2LU8z3KVeP5ngnMSoD9N7KMHW2kZx7LBExgWgKjXyinBWnHTMAETMAEHktg9Hupk47HLjU7bgL3JTD6hfK+pGy5CZiACZiACdQERr+XOumo58F3TcAELkxg9AvlhVHYNBMwARMwARPYRWD0e6mTjl3T5E4mYALvJDD6hfKdvnpsEzABEzABEziDwOj3UicdZ8yidZqACZxKYPQL5anOWLkJmIAJmIAJvIHA6PdSJx1vmGQPaQIm8BqB0S+Ur1nr3iZgAiZgAiZwPQKj30uddFxvDdgiEzCBBQKjXygXzHGzCZiACZiACdyOwOj3Uicdt1siNtgETIAXSh9m4DXgNeA14DXgNfDaGhgZUTjpGEnbY5mACRxCgDcZFxMwgWsT8D699vzYOhMYvUf9zu01ZwImcDsCo18obwfIBpvABQh4n15gEmyCCXQIjN6jTjo6k+EmEzCBaxIY/UJ5TQq2ygSuTcD79NrzY+tMYPQeddLhNWcCJnA7AqNfKG8HyAabwAUIeJ9eYBJsggl0CIzeo046OpPhJhMwgWsSGP1CeU0KtsoErk3A+/Ta82PrTGD0HnXS4TVnAiZwOwKjXyhvB8gGm8AFCHifXmASbIIJdAiM3qNOOjqT4SYTMIFrEhj9QnlNCvNY9be//e3jq6+++vHgfG/5wx/+8OOfUv7jH/+4V4X7HUjA+/RAmA9Q9d133/24f7/55psHeHsNF0fvUScd15h3W2ECJrCBwOgXyg2mDRclwIbHloM3dd7gf/jhh+H2VgNGH15JGCKDahzfG0vgafs0ruO4Fkmo1+y12Kc6f2VvjJ35faPxuiS/v//++31K3GsTAXiPLGNHG+mZxzIBE5iWwOgXyquD5A2aJCK+aX/99dcf+akBcnoaoDf3LPMOX7EBeyqbt9gj32YPzrYweafsE/cpa5m9yFok2dA+W/PpPX0/ffr02R5lT6DvCUE4fsJrDat3ruuZxh69R510zLR67IsJPITA6BfKu2Dl09Q1QU78RPYub/AEXQRgLvch8PR9GvcZLLYkw/oAYaZkA59IqlyuQ2D0HnXScZ25tyUmYAIrCYx+oVxp1iXEYMOxlEzET2Gv8LSjB49kioRjyaeeDreNJ/D0fZqTDnisDbpnSzr0FGOmJGr8jjp+xNF71EnH8XNojSZgAicTGP1CebI7h6qHDcdSgK6vIiF79UBAti75dChIK3uZwNP3qZIOrV94kOyvSfLV5+p7c80iwV99yDGDP2t8vovM6D3qpOMuK8N2moAJ/Exg9AvlzwPf4AQ2HEsBugIiZK8aCGAXTzjkE4GYy30IMG9PLtpjrGMlETBhTS/9sDz2vStDfJQf2sNLft/V17vaPXqPPvsV4a6rxHabwMMJjH6hvBNuvbkvJR3ffvvtz8F865NXgiXk9CklujkngGr1gZWCjZgwqF8rweE+Nsd2+dKq+cpGLBoXm1XQWfXPfCoZ6VCNzwRRkQc+cs/lSwIwfXJRwK01HddiXKMVo9y3kuHenjXJPmEPx/1ZrX/WeUwSGIs9l18TuJaP0U75UOnmXtZPX/Rjlwp6W/3jmNVY3MtF9ksnNmB/7/Us65jpGg4jy9jRRnrmsUzABKYlMPqF8k4g9Waag+roA4GEAucq+KGd++jijVuBB2/Muk9bDvoZA1mCBvQrKKBWgBOfViiIURs61SfaK5+qIAI5/cUf+RR9Z4wckFTfq0dO/asgBF+xIyZc2Ko+MVCKtj/5HF5PLlp3WtPaG1rPcS9kTrlvbud6z5rUOo/7k3vYIrvi/tG4yNBOP+17/In95Kf6qJYvrfVAP2S0l7Ic+zW+RlT7k7E0TrRRNmArftGm/Z/t1331eUKdWZ/t87NfEc6ma/0mYAKnEBj9QnmKEycphQ1HFThoSAUKvAETTORCX3S03oTVv5JRmwIT6VbQQmCgIltjXQUuao99pUOBhmSoK99lF+2Vz+hTUEIwEgu+wIpgJxfs1djZ5yz7tGu4PLlobcY1rX2wtGaqvpElaw0dW9Yk61rjRpukNwb2eY/wWkDfqh97o2ULuuULMrnE/SPbKrnIrfIZvdLFeLHgt3zLfiGn1zv8eFqpWJ/J4MsVcOZo1m0CJmACBxAY/UJ5gMnDVOiNmzfZGCDwxkvgoDdY2qs3YAUzVeAendCbeH6j1vhVAE6fKpEhiFC/yia15WAi2qOAA1kSjFxi0FK1KyDLbfRTUFXZxjhqbwVD2ZanXDMXTy4KtuM+hIcCePiwdqp11epLf63JVl9kqjUpnbRVRXsfu7LN9M17Qzr0mtJ6zdC4vfXA/pPNLfvi6wTyuWAfY2Seut+yP/qd++YxZrvuzckZvj77FeEMotZpAiZwOoHRL5SnO3TgALDh4I2bIEBv5LrHG3eVEMgEJRM9GWRjIBETiTh+FRhonFhHXfE+50oG0Itcr2jslpx8o85FgUcOOmRb1QdZgjPpbQVdeaynXDMfTy5aOzmAh4nWm9Zs3iu9vmrbuiaXkgPslD2Vza25XNKroH9pPSzpicla9foEj5z4x9eP+DolX/BTPLFvi9/Sced6aU6O9u3ZrwhH07Q+EzCBIQRGv1AOceqgQWDDsScAJohW/6U3X9oly5u2SgwwSHiqN3rJqo5v+rqnujWO2mNd2RPbY6CX/SNYqYK4mLRJf6uuAqE4/tPO4fTkonWd15qYxL2S116v7941qaA+jyV74l5r2SxZamSiD63XHI27tB4k19LDmNiOniyj1678ehP3fGvf6j4684cO0d8Zz5fm5Gifn/2KcDRN6zMBExhCYPQL5RCnDhokvoFuVbk16NBYMengk0UFBmpfejNXgFXNa7QpjlP5pvFactimgI1gSUUBS5U0LOmUDtdfEqjm80upee9oXbcC+LxX4prs9d27Jpe+nqQAnT2Cba2CP+xp7MBm7amcCKi/ZJfWg+RaetAnLuiKCYLs0Jiqo7zuuf6FwNKc/CJ5zJmTjmM4WosJmMBAAqNfKAe69vJQsOHovXG3BokBfitQin0Zh4AjBktq581ewYhsqoJ65HuBQbQJuV7ROD05bJWcAivsagVaku3p7Nn05DbYPbloXff2UkyE4aU90uu7d00qqYjjxPlRUtJa6/ihxIB9pKBf91qvOWpfWg+Sa+nBVn1AgK5oJ/s3XssvcVwaW/JPq0dzefYrwtNWl/01gUkIjH6hvBM22HD03rhb/sQAvxcoqb/Gqt7skSGgikE+8pVsLzCINlV9ZQv1kj3IRH0K8FqJU9SZvysex/V5TYD5eHLRul7aS3FNwozrXl+t8z1rMu5H7Sf2qcajvSpKWNgr2Z+lZEHtS+tBckuvXUqOsIUi25QERfvlF2NX7VH2iedLc3I0k2e/IhxN0/pMwASGEBj9QjnEqYMGgQ3H0ht3NVwMfhSQVHLcI1DRWAreW7IKCpBXoBBlY2AQ73O+xSbZs2S7vv5FrU9OcyAlO6SzslsyrmsCsHty0bpura3IJu4RuCk5qPq+uibRzXqWHmoC+dY+1h5BrrJnKVlQO/17RXJLr13xB+WcY3urj+aAsVv+9WyavW1pTo72v78Cjh7N+kzABEzgAAKjXygPMHmYCthwtN6ElwxR/6VPUQk+JEsCosK9KjCJb/65PbZJj+o4DnK9InuW5GKAR+LRSyiUoLT86tnz9DaYPbloXef13mKiREPruLXmXlmTrH3W+1qbsFV+tOZzKVlQe6u/eEhuzWuXkiaxaCUUMUFZo1e2PKVempOjOTz7FeFomtZnAiYwhMDoF8ohTh00CGw49r7BxsAnJhPZPMlRx8LY+R7tMXnIentBTexX6c1jM/5S0hGf0izJ5wQl267xkVtK1CT7lBq2Ty5a1/kvKrWYsLYURMOOo0oO9q5J7VkC9i1fNZIf2JP7YbMSgNZrDvflT+4fWUiupSfKyhf0Mn5rX9JH9iHbSk6wi/1b8Y7jznYOk5Fl7GgjPfNYJmAC0xIY/UJ5F5C8ccKGY80bd+UXOvQm3QqiNQ4BUn6zZ+wqCNAnjpVdS0GNfEIvQQFjEjzkJERyLbujvzFowZ9eiYEg55LHDvzCJ9nW0/O0NubjyYV1AYOlJDgyivuPvq0geM+a1L7WPmnVyLE/tLdjkoNPus/aj3bQT3sz+hz3t/YsfqJLewkG4oWepfK///f3n1/rpLPVR6898hd/5APjY1/2uaVrtvswGVnGjjbSM49lAiYwLYHRL5RXB0lgwhup3rT15sqbMfdbgUvLL+R5E0YPAbwCAwUUtBFs6I076tHYMTinP9e5T9QX+xEkRN2yRTLUMfhBP3bGdgIJ2R3t07kCEfQsFWzB9qg/nkdblnQ9qR1GTyusFfYPe0/rlrWztB4jJ/prfbX27p41qX0o3Uu19gZjyZfcR68x8X7e5zFpkRz6uE/BrpiYIMN+bvkuVtqTS3LIVzZUtkj3U2oYjCxjRxvpmccyAROYlsDoF8org8xv1nojzTVyWwqBBn30xo4+AgWCAQULlT7akIn9OEcXOmMhqMl26jraS1Ai2RisoCsGaOob6zhePs+6cnu8Fg/6SD829VjE/k88h9PTitZGq47rusdGQXIvoN6zJpUMtRJyxotrXDZyPyb2MSnADu1P6rzP0YHf0osNcfwWK+73/IcROteW7AN9sy1rdc0iB+ORZexoIz3zWCZgAtMSGP1COS1IO2YCJxLwPn0NLk/jjioxMegF8oynhMfzdxT96+oZPcdOOq67FmyZCZhAg8DoF8qGGb5tAibQIeB92oEzuElPGXgSsVT01cMtTxGWdLr9mgRG71EnHddcB7bKBEygQ2D0C2XHFDeZgAk0CHifNsC84TZzwbHm613IrJV9gyse8kACo/eok44DJ8+qTMAExhAY/UI5xiuPYgJzEfA+vc586jdWPL2ofnMhS/nqFfPGbx1c5icweo866Zh/TdlDE5iOwOgXyukA2iETGEDA+3QA5JVDkEzoK1YkIPkvxNGuH5mveRqycliLXZzA6D3qpOPiC8LmmYAJfElg9Avllxb4jgmYwBIB79MlQmPb9adp9dSD+eEgGdFfpes9BRlrrUcbQWD0HnXSMWJWPYYJmMChBEa/UB5qvJWZwEMIeJ8+ZKLt5m0JjN6jb0k6cNKHGXgNeA14DXgNeA14DXgNeA14DbxvDYzMmN6WdIx08qljsYldTGBGAl7bM86qfZqNgPfpbDNqf2YjMHqPviUqHe3kbItkrT/mvJaU5e5GwGv7bjNme59IwPv0ibNun+9EYPQeddJxp9Wx0dbRi2mjeRY3gd0EvLZ3o3NHExhGwPt0GGoPZAK7CIzeo046dk3TPTqNXkz3oGIrZyDgtT3DLNqH2Ql4n84+w/bv7gRG71EnHXdfMR37Ry+mjiluMoFDCXhtH4rTykzgFALep6dgtVITOIzA6D3qpOOwqbueotGL6XoEbNGsBLy2Z51Z+zUTAe/TmWbTvsxIYPQeddIx4yr6/z6NXkwTo1x0jf/JFd6v/E+u/MdN/CdNHJy7tAl4bbfZPLmF/9jsX//yTx///Odvfqz/9//+/hKO//r7X37W9x///aeXdD2x83T79E9/+vj43e8+PqhdziHw179+fPzmNx8f/PXNP/zh9TGYq1//+qfD8/YFz9F71EnHF1Mwz43Ri2kvOezcchCUE+R///33e4c8vF+0f69yEhbpeSV52Tv+nfrBaW8hID3iICCdpShQ38KFPv/213/5uBIH7Ik+cP1Kibo4d+Kxjebufcr+fvUgOXi1/OMfPyUYv//9L4HwUcHwq7bl/nt4/fa3Hx/4RqB/lZL9eCXxwK+s70q+XoD57j260/b979w7B6TbaCdfMPXWXe/CmU8nP3369GMiQUKB3RzffffdZ/z59B+5KEPycYVy1JMO/P7666/9pGNhUl9Z2zmQ3Ht9pWB7AdeqZvwhqN7D49XgfpWBK4Ry8sT1KyWzcNKxjebufUpgyKfSBMQ5aFx7fUTSgQ59Sh7Hvcj7zmezoQQJ26KtS+f4h8yf//yZurddRHux7RXW+BT1XcnPtwH+fODde/RzNauvnHSsRnU/wdGL6QhC8dP+1pMMkpSYeLTkjrDnSB34dpUk6Ui/3qHrlbWtQDIHkATdalPdk5kt6dA8VomH2vi60n/+z79/wQleV+DhJx2aqWvUr+zTnz0g8I+B41IyoaB7Se7nARZOCOZ5IhBtuPrXdHrMSOhgpGQj+oWv7y7ZrldYO+lYnM1D9ujiKL8IOOn4hcV0Z6MX0xEA1yQdjMNTEPzj+Pbbb48Y+lQd+r2GvzZ1DOZX1jYBcvUJ+JqkA+sV2F4hyD6G5udaekmHJCtWV3jaseU3HUqeevNIm56e5ARULFy3CbyyT3/W2gugfxZKJwpc0+3dl9mGqzwVaDmU7eU6FyVnMel4JcDP+vdekxSt+U2HksHKtzg2PrEeOK7gX7TtAueH7NENfjjp2ADrbqKjF9MRfNYmHQTx+MfxzTffHDH0aToIhPjKFLY66TgG8961zSf1JB1VgFwF0lWgqWC1ajvGu/dqWZN0YKGCcT0VqhK593rSHl1ziO0u5xHYu08/s2hNAP1Zh4+fPsknmD6qZBtmSDoI2mPCwfkrX2U6ivUaPUo47mTzGr/eIHPIHt1g94G7cv2oo51cb9lcknfkvDbpYKbwj+PKSUd8IoOt/CbF5XUCe9e2Eovq0221KYimbiUWvbbXvXuvhr1JR5XIvdeTevTsXy3lu0cQ2LtPPxs7B/xLn2zTWV+r+UzRCxfZhhmSDnDcMengSUj8uttdEqUXlt+ZXQ/ZoxsMdNKxAdbdREcvpiP4rE064pOO1u8keMKAPpISWOjgOv9IPdvO70T42lb87Yj6oTcXjRW/6oUOjdmq8SMW+jBO/J1Kq298alKNhZ5ckINX9utuyRBMji5bko44Nk9P6Eswy8En/vrUn/t6IkAtWT5pJ0iPstJJH9rRhQwJDv1aBXnJKWFCL/33FPpJj+pKj/ySDNdVwXb5Kllq5PGzV+grpuq7pp+4M65K1iN9uZZ8rLEzj8t17huvsYEj3tN51K3zihNj4EP1mqN+V64P2ac54G8lHfzovNUmSPo9Q9ZJENv76k2WbyUd6IiyfE2IoLj3Wwna6BcDab4K9MpflYo28FrJdVXWJh34iz362hP9OOdei4XGU1995W2tbzBhDM0Lc8d40pNt17XkNT41jJkH9KGHgl3qU9Villki20p0GBsboz6uK5t+suLt/x6yRzd4cfw794rBRzu5wqQpRe7IeW3SEeVy4M5k6q9c8bWmGMCTbCjgpq16M9fTCYJz2pVQwJMj9mGcGMS3An31jbZo0WE/Y+orWMhGOdpJZqQD+yuf6SMZ+EQ7GQs7aY9t8pX7tN+lYO/RpQoQlwL3VuDJffgryOzVyFKq8dWv5WtONiSvWrpb/av7e5OOilXUha0E1nCJdmMjvucSeUg36x55/KNGHwWdMZGT/4yjonu9WuOgV/qifEySon1RhvPoT/SVtqhDtnEv68jX8lV97lAfsk9z0KdgMAMgoGy1IZv1xMBQ563XwNw3B9rx6z4Ema4zvZ8AACAASURBVFxzKACNwW60mwBYY7fqPQFrtrfiUo1d+SUfsE+20DcmSejH31zUN/qPDnRxT/roh06u6RMTC8kwNy1G8b7sQB99ZINkuK+S2yTD/agn2oPfapMeriMP6Yl1a21Jx5vqQ/boBtuPf+deMfhoJ1eYNKXIHTnHZCIG3nGCCDzwjaMKlBV8E8RXJfbPMmojsM9FQbvuR1tlz56kQ31jXfmuZKmyTTaho7JBtpNk5BL9wP87FPw8ulRBpILQpbFyYElArOBYwSO6CBwrWemnHTn1Ua32WEc9nBN40z+PWwW5UU8+XzN+FSTntRP1YFMslZ3YH0v0I96nr7gouNd1rrEhl6gX+VyqdSC9Gk99KtnsK7Ias7InskROHOP8Mj7XdyuH7NM1AbQC2Sq4FjQFjsgo8FS/GBxKPtbZhhycx4A4t6lvDjqxQeNim/plmwhmtxaNKf1c5xJtRo4kIJcYSBOIx4K90k+dx4jt2XeNrT7Ian6iTs7FRWNHvbRn3chJf9bFdS6ZVTWm5gQblxIOZCmVT1p32YY3Xh+yRzfYX8zAht47RUc7udPM23e7I+cYABMg6w2YyeCcdgXfnFdF7VXgLvn4CX8MxDV+Tkbox1ON6r6SHHj3kiDaezbFpxnR78rm6utQ3GOM6I/s5n4rWWEs2qu+GvtqNbYeXaoAsgoSq3GrvgSK3FeAreA/y+YgleBbQS51bmf8HKhGm2LbnmA1JguyQ/rxJetHJnPKPlYBcy+ozv3FTnaoL3KxKLiX3dkuZLNM7B/P2RfSozqPh7zaVFe+qg1+seQxYjvn6qc69r3D+SH7tAoKq2CSewpiKzi0E1jnoDEG1sjkIBdd2YYsE+3JwbkCVgWjsg1b1C+3ZZu2BqvZ3sgFXVVQnn3KMtlG/Ig+4EuUiTbgT+SuhCuz0n1xoc52ca12koAq6RBj7JGsarWprmTymJKpxsIH6c7+rGEoO95UH7JHN9h+/Dv3isFHO7nCpClF7shZQT+2E+BzcK6DT/EJ7KugnElUMtEKsONEKzmJiUQcv5XURB06l31VHyUDyPSSjji29MaaYFTjVMkN9yq/xbCyDXti0lTJRBuucg6Ho0sOdAn0qqC1GrfqmwNl9cuyvSAVG6qkIwbOuf+apEW2VHWVdCjoreqKkZICyVcsquRF9mRG6InjqK/kVUcuuY9ksm26X9WyXzV25VLxismDbM3zhJ4lW7I/eeyrXx+yT2PwquCuVcfgOsJRoJqDSWSy/j0y2R6CTwXZCqSjXgWx6odMLDlYjX2jXOs8+6RxqPMTBa6xJ5csJ3+iXAy40R2D7mwDiUf0s5UwRFs5z75zHWWqREA2Zln65YJfUR/nWaeSwGg/eriOnDJHrmN71pttecP1IXt0g93FDGzovVN0tJM7zbx9tztyjoF3L0BvTQ6BN35XXzHKfZBBNnKKn/pzn6cP+WsfWQ/X0lMF7Wt9inLVGNyTf4yX7SLhyMlI9kd2VjX99zBv2Xrmfew/uiwFur3xqr4t+SxbJRUKcqlzsJr7R9nqHPktpQqic/DLNXbF4DqOke2obKj8kFzVhk7GlUwcT+fZzpioVDLI98oaP3KSR584rhKLyu6sv3ddJW4926/Qdsg+zcEr17kouKzasqyuCRhz0MzrSg5ykc82ZJkYWCqAbQXV6KvGVb9cx0Beti/V2V5sUeAs/cgQFFfJBGwkp7oaMydHyKq0fKRPNab6aTzVmbXmutUuPdRZNtoX5Xp+SEc1D/CTHUt1ftoTx3/j+SF7dIP9YYVs6PWi6GgnXzT3tt3vyDkG3nsCYCUSa5KOOFacZD0tgR8HwTiyvSLZSi6O0/MpyrXGor/Gil+jks35CVCU743dGu+q92FwdKkC3Rg89sbLfXOiEPvqk28FmFXgqzbq3J6TgrU2Rht651k/Nmwt0X7Oq4C7+vpQlFOwnnVx3Up4cp+KTUxMevOEz3nsaF9kksfVnMlHXcc+ec1UMlH+jueH7NMcQHNdFb7q02qL8gTUCjKrZCEHufTNNmQZ6cuBp4J9xowly8W2I86zvWu4xHEVaEc7Y7vOe3JVm/TBJTOUTsmoznJZb26XHuosi86qMD95LeiphZKnapzMuZKpxrvQvUP26AZ/GjOwQcMO0dFO7jBxii535BwD7z1B8t6kIz81IHiXLjhy8DWlHNRroUjm7KSD8UiCGC8mVjyRideyy0mHSCzXOQgk4KyC1kpT7tvrl2WrYDMGu7k9JwW9sSpbl+5l/diytUT7OcfnqvTkCNjxPcvomra8b7N89XRA/akz22xjlOW89WRHyUWUx2clI5UdeR0sJUDZtjtc8zr1csmBXSuAJjhstWEEgaUCSAW0BJY5YagCx2xDJZN1awxqAtqYeMQ2zo8u2d4el2ps/Ftj45Lc0pMABfbRhjxufiqSdVZzIX3ZPp42tEqeP66ZM+xp9cuce7a0xn3z/UP26AYfTljty6OPdnLZol8kqqDxl9Z7nV2Zc4vku5KOlj368TgsOQj4c6BDX7VX62etT1GuZQ/39VSDMUmCODivflwek474ZKSn/w5t+Ht0yUEgAeTagD737fXLslWwGYPX3J6TgqXAeSunrB9btpZoP+f4XJUlOYJ5Be5ZluvMOScd1bhRzxK7KMt5r2Q7dd0aI6+DJf29sa/adsg+zYHd1gAaOPokW59mx6+6HJV0ME7WFQPoaHe8z/nRweqrzHKw3nq9XSNHkiDu2W/u56Qiy+TFnRn32GX74hxkvUow4vgkHthYJUf0z5yx7WblkD26wefj37lXDD7ayRUm/SxCUFkFbz8L3OjkypxbGGPg/cqTjjW+6/cRzHmvkGTox9jorYJ37nOMSDqwh7GwGx+wp5UMxaQj/96j5/PV2/D/6FIFgTmobY2Z+/b6ZdkclC61V0lBlQi3bF26X+lf6pPbc7De4pHlWk8SYJITCvpmdgr0pZd+uaiNGvleibKc90qeN/WtnnKgp5JvyfbGvXLbIfs0B3a9wLEFI+uIge6aIDb37wW6BK9ZXoGs7MtB+NHBah6f6y2lCsC5l0sO6ltPBOCdOYtJZqn7qvOYWU/uH+WzfUscMjds4Gt7rZKfjrT8b/W/wP1D9ugGP45/514x+GgnV5j0swjB5SzB2ZU5/ww8nbyadMT+ra9CaUj9idqYKHBefU1JgT5Mq3buc0RdGifa1Eukopz6tmrZTrKh5KOSjXZj35HBaTXeqHv4cnSpgsBWsJzHzn17/bJsDpwJPBWwUuf23B+Z1njcb7VlH3SNfByf860lB/+VDdmP6Kfa8rhZb04a0BFtR08usX3Jty2yjJPH36o/Moh2syayr7H9queH7NMcCC4FjhUMBbDUuf+aIDbbkANd9OZ7+WtA8TUrB6u0xURIPiiBqdokU9XZ3uxz1Sffw6Z4VJ/2Z3ZcqzBmvOZ+lcxkbnFMznPJY1Z2qc/WpKOas55+bMkJZPYHW5g/5rxqk61vqg/ZoxtsL2Z0Q++dokc7qcCLYPCVI36aPUNwdjTnndO9qVsMvHsBekupvmqE773kMQbjMTnR+NX8s7ZaernPQf9cpJP26imJ5KOc7rXq+Gd40dtjBQfZ12KCv4xf2d+y4Z338efookA3BppVsFyNmxOFXr9qHH3CXbURiOb1WAW3jCk59EhGuiu7q3voiQyWAudKR+ZRBdNZJtopDvGexpFf2JUD8dhGe9U/+9Z6usJ4W2SRzz711gHyFWt8kk28Nkkm+yoeV64P2adHB9D5k+ucAFSBYbYhy/B6lANsJiYGyHHcKrjlU3LpJUhFhoA2fhVs7WRne7neWjKXyr8og63xaQhjVp/846MSi9wHG9VGXbVHpshgQ6vEsZCNc9Dqg0y0oZfwVUkUNsdEhXN0Vr60bBh4/5A9usHe49+5Vwx+tJMEcug88rhL8NXDfTTn3lhHtcUAuRdI98aLwXtMKGIfPSnISYD6VvOvpLSyS2sPvbnEBAEdBIbYxRhxfI2NrpbdUTfJNrLUvYIuySIPY+mnxgbs4tD9nr4rtOHH0UWBbgw0l4JG2aDAUH2XAkTJVXXWFWWwkZKD2ygTz6ugWza36mp8BcGtPtX9nADIdsnCSLZmXpqLKlmJ9mW78pjI5tKSQTbyQrfsU519yLq5liy1ksBKjnvstyjfOs98Wvqudv+QfZoD6CqQXXKcgC8GkgoKFdjHNsYjkI1BdrZByYHGpT9j5AA1Br0aU33wI45bne9JONCfda8JtmWXanyJ3Cr/YoCe/ROzzAr98jUnDATxcUzkcv/IlHZ8pR8H+uIcYJPGUi3/WnXsE9dASz4nQRpHNf5wYN8FyyF7dINfx79zrxj8DCcVVBE4xacdXDMeBzIEXAR38eCePsVGhvMqeFzh2qVEzuB8hoO8MROYMw+aR80X80SQvzUYRpd0EFTrzR89rYQD32Lgr4SAvpyjT/fEIeqjnQMd0V7O1RZrbKRIf/SddQsT2a3xYi1bqZdKywbZI1uW9FylHbuPKgSSBJw5GFUASFsv2CRQrfr2+tEm/bFGV2xDLwEn93OAHYP2qINz+vVsrtiJQ9YlfdiwRSdrN3LhXPsi+lgF1IwjO+gn3+N97FFBb9QZ+0Y55Cs5+Sj7GCfaLn3YusRA+qnXFOyT/qrO9q/ReRWZ3fuUwJHgrxXQcZ/gc20g19JD0EygqgBRtQJZ2aH7qgmo49i6Tz8FybQr+M/BNRNEew6wpYe66tObWNla+co46INptLunTzbGxAIdjMPBuexFby5KOhhb7bEfbLhWwa6oU7oza/pkblzHcdDJmOIvXcjAp8dA+pGN9snOXCOTx9F41NnP3P/N17v36E67j3vn3mDAGU4qKMxmKPgkiOsFcPRTYEawN0M5g/MZXLBzzbF1bJIVEowczLMmFFxkndynXUmo7EJPfsLBtdqrOupmTckOdEddeayoq5dQaL22fInjcy7fZAd15Vfud8VrGB1RFCBWwV6+RxCay5r+rSA19kW35AgyuV4TbCKTkw+uFaRne1vXVYCd/dd1xaGll/uVjejoBfCw0HixbvWLMtV5TgAie+yIrFtjR72aq8pvPSFZer+JfdFXzWNvnNj/que79yn7m6AvBm+tcwX5SxAINqWTQJprCkGjAmTuK0CmTfeXxs7tjMOhQP+nkb78l7GxIwb2BKnRhi971XewQf5le3Stdvlea/r8LjZiT2aBnehpBfBZXjZwH33oVclPLyQb6zjPnIuZ5jLqwy75GnXonLZeYd62MEIXPsXkQ3b1xrlA2+49utP2Y965Nw5+hpMKwLIpetKxNpEgeSEYWxvI5fGudH0G5yv5Z1ueS8Br+7lzb8/vQ8D79D5zZUufSWD0Hp0m6WgtF4BuhYr83b5uUvm/1e9Kh++ZwBUJeG1fcVZskwl8TsD79HMevjKBqxEYvUenTzr0VZItE80k0O/uZfRiujsv238fAl7b95krW/pcAt6nz517e34PAqP36PRJh37TkX8A3FoO+m3I6Ilo2fPK/Rl8eMV/952XgNf2vHNrz+Yh4H06z1zakzkJjN6j0ycd+q3Hmt9pIKsnI37SMecGs1dzEBj9QjkHNXthAmMJeJ+O5e3RTGArgdF7dPqkgwmITy/ynzOlnb8kxBMRJRxMQu+vBm2d1HfJj15M7/LT4z6PgNf28+bcHt+PgPfp/ebMFj+LwOg9+oikgyUUEw8g9441f173Dsty9GK6AxPbOAcBr+055tFezE3A+3Tu+bV39ycweo8+JulgafBEIz7NAHY++H8Ltvx99SsvudGL6cosbNtcBLy255pPezMnAe/TOefVXs1DYPQefVTSoWXCbzf4+hQHX6ui5knIDP83h3ykHr2Y4tg+N4EzCXhtn0nXuk3gGALep8dwtBYTOIvA6D36yKTjrMm7mt7Ri+lq/tueeQl4bc87t/ZsHgLep/PMpT2Zk8DoPfqopIMnGXzFqvVEg7ZZvlrF9hi9mObckvbqigS8tq84K7bJBD4n4H36OQ9fmcDVCIzeo49IOj59+vTZbzm++eabct75PccM/xO5nBu9mDSuaxM4m4DX9tmErd8EXifgffo6Q2swgTMJjN6j0ycdPNUAaj6qSUSWH5rz+44ZyujFNAMz+3APAl7b95gnW/lsAt6nz55/e399AqP36PRJB08vgMrTDZIJfjTeg0w7iUfrK1jXX0K/WNjz8xcpn5nA/Qh4bd9vzmzx8wh4nz5vzu3xvQiM3qPTJx0AjV+Z4ncbPch6MhL73GsJ/WJtz89fpHxmAvcj4LV9vzmzxc8j4H36vDm3x/ciMHqPPiLpyD8OX4JMO0877l6W/Ly7f7b/uQS8tp879/b8PgS8T+8zV7b0mQRG79FHJB15KfUgk6DQ3pPJ+q56PYMPV2Vru95LwGv7vfw9ugmsIeB9uoaSZUzgfQRG79Hpkw5+08Ffr4qlB5nffdDek4m6rnw+gw9X5mvb3kfAa/t97D2yCawl4H26lpTlTOA9BEbv0emTDiUR8YfhLciSpZ1k5e6l5efd/bL9JuC17TVgAtcn4H16/Tmyhc8mMHqPTp90sJz4y1WA5cfhPPWIkElGSDYkQxsHPzi/e4l+3t0X228CkYDXdqThcxO4JgHv02vOi60yAREYvUcfkXTwO42vv/76x2QCwEsHScgMZfRimoGZfbgHAa/te8yTrXw2Ae/TZ8+/vb8+gdF79BFJB9NO4sGTDgC3Dv5iVf79x/WXTNvC0YupbYlbTOBYAl7bx/K0NhM4g4D36RlUrdMEjiMweo8+JunQFJF88CSD/wQwHjMlG/J19GLSuK5N4GwCXttnE7Z+E3idgPfp6wytwQTOJDB6j06fdGz9qhSJCInJDGX0YpqBmX24BwGv7XvMk618NgHv02fPv72/PoHRe3T6pGMrUJIOflQ+Q9nq+ww+24dnEPDafsY828t7E/A+vff82fr5CYzeo0460priKQeTsPUJSVJzicvRi+kSTtuIRxDw2n7ENNvJmxPwPr35BNr86QmM3qNOOtKS4k/oMgn8tau7l9GL6e68bP99CHht32eubOlzCXifPnfu7fk9CIzeo9MlHSQLfD2KQ3+tKv5gvHcueSZh9EScsTxn8OEMLtZ5fwJe2/efQ3swPwHv0/nn2B7em8DoPTpd0sF/6rfl/+QAeHXM8LuO0Yvp3lvP1t+JgNf2nWbLtj6VgPfpU2feft+FwOg9Ol3SwUSv+T85AN06+P86+JrV3cvoxXR3Xrb/PgS8tu8zV7b0uQS8T5879/b8HgRG79Epkw5NtZ546JqahISnIa1jlj+Xi6+jF1Pk7HMTOJOA1/aZdK3bBI4h4H16DEdrMYGzCIzeo1MnHSQWo4GetTD26H2y73t4uc99CHht32eubOlzCXifPnfu7fk9CIzeo1MnHfeY8vOsHL2YzvPEmk3gcwJe25/z8JUJXJGA9+kVZ8U2mcAvBEbv0emTDn6bwW80+MtU/N8bPP1olW+//bbb3up31fujF9NVOdiu+Qh4bc83p/ZoPgLep/PNqT2ai8DoPTp90sGfyAVqPFpL5tOnTz8mKLP8rmP0Ympx9X0TOJqA1/bRRK3PBI4n4H16PFNrNIEjCYzeo9MnHfzpW6CSfKxJJvR/fBw5qe/SNXoxvctPj/s8Al7bz5tze3w/At6n95szW/wsAqP36PRJB0D5WtXawtOOrX3W6h4tN3oxjfbP4z2XgNf2c+fent+HgPfpfebKlj6TwOg9+oikY80TjrjcmAT+3O7dy+jFdHdetv8+BLy27zNXtvS5BLxPnzv39vweBEbv0UckHVunnkkYPRFbbVwjP4MPa/y0zPMIeG0/b87t8f0IeJ/eb85s8bMIjN6j0ycd/EWqLf+7uL5eNXoizljmM/hwBhfrvD8Br+37z6E9mJ+A9+n8c2wP701g9B6dPung9xz8OHxN4WtY/HldJsFfr1pDzDIm8B4Co18o3+OlRzWBexPwPr33/Nn6+QmM3qPTJx0sGRKIpSce/P8dJBxKOvhrV3cvoxfT3XnZ/vsQ8Nq+z1zZ0ucS8D597tzb83sQGL1HH5F06D8IBC4JCP9RIEkFB+dKNGiXzNYfn19xeY1eTFdkYJvmJOC1Pee82qu5CHifzjWf9mY+AqP36COSDpYJTzJIOADcO5DZ8huQKy/B0Yvpyixs21wEvLbnmk97MycB79M559VezUNg9B59TNKhJcJvPKrkg3tb/j8P6btyPXoxXZmFbZuLgNf2XPNpb+Yk4H0657zaq3kIjN6jj0s65lkqy56MXkzLFlnCBI4h4LV9DEdrMYEzCXifnknXuk3gdQKj96iTjmLO+HrV6IkozHj5Fj74MAOvAa8BrwGvAa8BrwGvAa+Bag28HGxuUOCko4DFD8yZmLuXGXy4+xzY/nMIeG2fw9VaTeBIAt6nR9K0LhM4nsDoPfqWyPpoJ5UkUOfCn8rl/+ngiH+1CtnqQB77jrYx2zXiegYfRnDyGPcj4LV9vzmzxc8j4H36vDm3x/ciMHqPTpF0AE1Hnm4lJGrfUmddd7vGVxcTmJGA1/aMs2qfZiPgfTrbjNqf2QiM3qNviUqPdpInGOikziX+L+PIbDmyrrtdH835bv7b3nkJeG3PO7f2bB4C3qfzzKU9mZPA6D06RdKxtBSUlKz9/zf0FaslvVdvH72Yrs7D9s1DwGt7nrm0J/MS8D6dd27t2RwERu/RRyQdnz592vQbjZn+etUc28JemMDnBEa/UH4+uq9MwATWEPA+XUPJMibwPgKj9+gjkg6ms/qReW+a+R/M715GL6a787qy/Xpat3UdX9mnV2ybbm3/6U8fH7/73ccHtct8BP7xj5/ml9/ZMc9cP6BMt08fMGdPcPE//vtPH//8528+/vUv//TxX3//yxNcbvo4eo8+JuloEk8N/JUrfgcyQxm9mHrM4Io9+eCrbEuFBDD3y9czJIk9DtHfntxT2uCxq9Dv1YOg8dVC0PnnP398/P73Hx+//vUvNhW/S3t1qJf6Y2OP1xKLXl/arubvS7A6nZnnyILrB5Td+/Tj48egkMDw1WOmoHKJxf/+39+bq4oAu9ef9icUJRyRxRP8bvn4yh5t6ezd3/nO3VO53DbayWWLfpH4+uuvP7777rtfbtz47GqcSQxgq0/tsY9jzaf3fOWNvvq9Df04597a3+rceCp/ZraG1Z39XGv77rX917/+9DQhB4ExIFw6Xwq01ziBjmqcKwbhYrbH5phcyd/f/vanOUDvU0pmd8QaugG73fvUSUc5uyQV//k///7xb3/9lzKB4H6vkIDloBt9MyVmPf9py/6TfDy5vLJH93CbIukgmD0i8NRfuuJT+RnK6MW0hVl+8rHlSQV+Xdm3LRyQ1bqb5QnbVv/3yB8y/1sDQRICAuejAkYCcgJwBePUV/56FfZGW3XOk5o1diO/VnbPorhyn5zk+knH4mzpk2iCxFgIkNWmuicza0DdenKxlHjAUn3XyEb2M5w76fh8Fg95L/1cZfdqiqQjB7AKSl+pj0hiuuQHNI5eTFtcynP21VdfrU4cNa9bxruyrJ78XNnGq9l2yNremnQAQV+FOgpItoGvM125KHFQwqH6N7/5+Fh6ciHZq/u4lT8JF771/CJh01xTc/2A8so+JaGovvKzJukArZ4GPC3pgBtPL3pFbHKy1utzhzaeBLFmqnUT7Vfigdys6yP62zt/ZY/29Lbapkg6+JRcgehRNYHg3cvoxbSFl5IOBdzYylfb1nzaT4JyZd+2cODrYVqzW/o9XfaQ+VcQqGCY66Wipx1Lcmvbsw29wHWtzjPlYIXNCrTFjpqnNr1gWrJX93ELv8hhS7+HyO7dpwSPBM/VJ/Frkw4Cb3TMFlhr6ShxgAfBM77GoxdMS34mNko4Zp5zzf2R9d49uteGKZIOnI9BLN9711H9BoAkJR4EfsgTzHKo716oV+k3ejFt8VvzRZJBsoGtHGuSPfXdMt7VZHmSFtcmDFzWEzhkbeeAf03SQcBM8HxUyTZcPSDHd3HKXxmKbRUffZXs6j5Wtlf3YsJx5Jqoxrrpvb37VIlFFTirLQbYreB55gBUiQNLQwlWZEI7gXhV9El/i1vV58r3YsIx85yfMQd79+heWw5891xvwhlO6hPjbIU+SSfAWyoKgEk6ZihncD6KS0wc4K6nF9jMXPZK7NuTQ08M7BmD695X52hjzUR7sCkfeT3Rj3Uj25BHB7qq8aJc1s111g8j9Mf7XFd9uRdLNVb+DQ364RUTQNlP29VK9nGXfTngVzCdlRFct9okSyDNU5CsUz+allyus3wrICfAjbJ8nYnxek8WaKOfgn3WBV8Pw5+lr0JlO3WdE4uomzaO1lNi2d/yUWNgGzrwUTqX/MVX+kR7ltjH8cRXX59j3NaYyEbbZGOs0VMVfIdD/E2HuMT+8Zw+HPGezqsx9vCr9Bxw75B9muzYknTErrwO05cAnacEBOUcFO4riFew3pKVTrUTuOupQyvI1xiSU3LAWHsDf9kre5RISDc1MlWR7JqxxSvqxQ/utwpssq9c9/hIl8aTfxqX/uiNpRpH8rGu/GQ9oDMyQl/sl88lm21DrhoDW+VP1MW4PX7Rx7PPz9ijPZs/j056kge2neEkgRHBVS4KHqvAL8tyra9q5aCskr36vTM4H+WzAmHpg7fmCrv5Dx1bJffNcloL6JMe7ikBbelX4krgrfVCHQPxKiGN/bRuYj/saAXu8qVau/iF/TEJinLoZOzIDfvyWFyTrOA3vshGccNWdMS2bD/XVyqHrO0c7HFdFQLMVhvy1Sf+CgpVLwXikssBOcG0AmnG4ZqDcwJbbKsSCO5JZ6smeN5a0BVZYEsVgFe6xTv7GG2gX8te7uNz9pdr2aD2eC/riwH/0nj0hX8sWV91rfmGD2PkJCra0JorfIms6BPHqhgv+SM+0Z8Tzw/Zp8m+KjBsBXzq5pOY/QAAHrtJREFUWgWJBIHcJxCOAWHrXAFnNb76aLxcE2RKpqqlO/frXcunKFONw71c4IUdPW756UFld9VfuqP+eC/riYlIbquuY7De0xv76j2RuaOP2Ekm8qkYIsf9qCfq4Dz6gb69/KItI87P2KM9u6dJOlpOAnQrVOTjJ8ot3Ve/v9Xvkf4o2I5jKnjXnLUC3aqv9PCioCSh6q++BNmxEIgzbpUgoFM25X7oUDKjFyTpZXz1w7eqyB7qXKonGZVc5NYaR7pywsE1PrX85j4+4OOVCja9XBQEK5CLwbSUK4ir2iRDIIcOgkIFxOon3S17sw0xyEQ/3KUjt6lvnhvkZBN91S/blINp+dOr0ZdZ4HMcT/aKhfTJXtmj+6qjfdim/jHYZpwYsNNXSRltkUVkJ7tzkiab0CG7Kn/UJlup1Vf+xjadqy3W2U5k0R9lOM+ckVNyFf3UWHv5qf8J9SH7NNlVBf0EkmtKDigJFvM9dBEw5vvIqtBeBbxqj3XUwzl9ea+IQStBbQymY//WufTG9lagm3XL9ha3rEdyFfv4Pss4CuSpVdAX7+O72Esm6mY8+lDkp/rHeaj6Iid71U6deUsf+nOpZLEvluirbFX7Xn7qP7I+Y4/27D/gnbunvm4b6aSCphwQ1pb99OdLsW+kjS1bXr1/ZR8UbGcfFcBjO8lDNW+tvuhS/1aQrOAb/fHFUjpbyaaeFFRM6dsK9pHnYNyqaFzqVonJS8svrXOYVYX7yOSiBK1lv/yu+mZdI6+redg8fg4ac9AXr6sAUAMiRzDIp9qxKBiWnjWBa5aJwXwOthVkUscSx+21YZcC+9i/d06fioVska/U2B6ZiHf2kfFyoB/tQkfWKxsZNzKKujmP/TILdMimOB73c8JSBfnqqzFkU1UrWZBspS/6gVzFWXoiV8bby6+y9cB7h+zTZE8MThU4VkFm6vbjZdUXHdxXIiBdWTYHu1UgnceMgWnuH9uwoQp+s754rcA43uM82y1G3FfBR+7LV91XHQP9bJf6Sm/UIZtoy/7GNtpzkd15POZFY6lu9VV7tCnLRt+Qz3Yin+cGucgvylRjxTGyPz1+2dYR12fs0Z7d0ycdCjJbQV+GI/nRE5HtOOL6yj4o2K78VKCL/VUw3urLixN9OPS1qqifT/XjU4H4qb/6tdbJ3nWxpFdBf+VntH1Jj5It5GIyhQ4lLTmxgJH05uSOa/hEvdGed59j98slB40KCKu6CgAxQIFtDHZlWNa/RybbQuKhgJNAk/aoNwb/BLFLwXTsK7t7NeO1WORAHVkSIBXxqMaMTzNiH/WNiRR6VfKYUTfnyOrISRs6aKsSgKy3kpE/0i+bqjrKMi+VvjwmejXX6FSCVfmxl19l64H3DtmnyR4FpwowqavAL3X78bLqS4BZlSybg0f6RBuq4DUG2rl/Dqar/pVduifduo51tl126r1BgW/FLSdTmU8OyKMOjUOd/ZG9kslPB2RTvo9f6qM6+sp59jfalGU1jnRlO5HPDJDN8yd/xFTj5L5b+EnHyPqMPdqzP7x698SObRvpJBtbnwLnoCt7FQPS1ifGuc+Vr0dy3sqhlTighzlTMI4P+dP9Vt84f/TrHeiILxaSzWPJr61JBwG97ER3K5nRuMj2iuRaepRYVGOJC1xjiQmF9LdqZHP/qGv0OXa+XGIgiD6uc1GgV7VlWV0T6BME5k+uY0As2WxDlsk6FOBWn9qjMwafkm3VVfAqu1p1i5Pkq/E1jnzNPtK38rO6x/jRdwL1KBd1cx59XzOHBPlZJzqqJEH+LDHBvyjb0sfY0Rfkoq/ooD0nkq/w07ydVB+yT5NtOcAkIOwFmbF71Te2x/MsWwWnClyroDT3j7LVOfJbioLeVp+cHDAmfQiKFXhX3NRW2ZjvSZ9siO2Zl+yVzBp/kcn96J9LZt3Tnf3LyYR0Z7k4rsar+lb95HOuMz+NPbI+Y4/27D/gnbunvm4b7aS+t864BHcEYdzTQSAXg1zkkLl7Gc15Cy8F5K0+BNFKFqnjfLT6bk0M4tgaq5VsKkBfSg6wE10c6sM8tJIF2jiW9EqupQdfxIWxY5Et8V6UXxo797vCNTxeLjkQ5LoqfKWl1RblW8kGtnLEgFj9sg1Zpvr0W/r49D8HoGpTrXGOqtHbY0HgnJ9K0IfgWb5mH/FB9i7pz36gN/aNyUFOOmIAn/W0kg10E+hHveorf9bYHGVb+tCbkzbWHkWMKvZqE4dK5ictw/89ZJ8mqxXwxQCOQG9NyX1zYBx1rJGNNmRdOfhca2O0oXdOwMv4vSKZaCf3ZFtlU+4Dh7UljpNty3p7OhmzSjakP/fNc9WzWb5LV5436c5PLJDXUwv5Uo2jNumvZDTGFeoz9mjPrwPeuXvq67bRTmJF/CSY8XsHweIM5R2c13JTgNyTJymM86QnE62+ryQdMUHQOLItPi3DpqqQbJCwEOBjh54KyP5WsqD2pcBfci092KSEB1nZqXWv62i7OC6NHftc5RwfXy4xEOwFjgSCvUCOoA8ZgkkdBLg5YcjBNg5kGyqZHIgquKRmPMZXiW2cH13Q2WPBeNiDXdkW3cs+5uRgSX/0KQfcsFKJCUnmJJkq2WDe6Ct78aN6T4jtSzavmWdsqthxT+urSpxe4ScOJ9WH7NNkWw4wCe6q4Dl1+/Ey9+31y7IEk7kosKTOwWsObntjZb1rrhWUL8lKLtqq88qmLL8laO4F3FFvNS5+MFaU4zzfw/ZcMuuezVm2ZQtjZH+45j21mm/ZFO1HrmeL+ryzPmOP9vw54V2pN9xPbaOdlEUEggSXBIbYkA/ux0/U1e+u9bs4r+GlgHdJlvnQPDE/zGGrb0w6cuKwNA569bSLcRSko0e/MWmtDSUs9M/jyvZWsqD2pcBfci098k9rW4mz1rvaYy2O9LlbgcfLJQeCS4FjNSABIZ9GKwDlU34CWcpRSUelKwb00e54n/Mc4P9k2f5/0RnHa2nKgXC0K9tUybb0VvdjciGf4xMX5iaPiZ4oI/uYT0q0if5V0qE+1EtMaI/ylT0/jfzl0w4lHHrqITnV0VaNobY314fs0+QDQZyCZtW9wDF2z317/bIswWQuGp86JyU5uK36Z31brhXcLvXhvS3aGc8r/6VXcpVMa0yeDsT+MOFe/KpX5iRdUSbzpI/soc4ls+4F+lm2519eA7KLWk89si3Rf+R6+nPfd1yfsUd7fhzwzt1TX7eNdrKygqCSg+/eU+dgsepzt3tX4NxipoC31R7vK+jHHwL7Vt+YdLQShKg3n8fEg7E4CMgJ3JWE5D5KipCjfy7S00oW1H5U0qEECL3YQ90aWxyRudv6x+aXSw4ElwLHasCsQwkHskcmHegjIM7j5SBTyY/uV8Fy5ceae/iG3rWccjIgm3LAjV9qU119ot+zsRqLBBD/45xEHb35yYF8xVG2Ui8xyfOWGUS78tgap8XkCH5x/APPD9mnyZ4qEFwb2OW+vX5ZlmAylqV2dBN0xqN6j4g6t5wruF3TJ9sqmyr/c4Cf/V4aDx9lm8ahRi92VCV/lSmPmfVlHZl1axz6ZdmKQdSfeeBLtq8n35ON/d51fsYe7flywDt3T33dNtrJ2or5716ZswLeNbPAi5ieQuCTjtw3/jWmpSA+9+WagJ1xtrwxyI/WeLK1FfirvdVfdkqupUdyJA+SFbNWQhETlCW90n+VGh9fLjkQXAocqwEVEFaBZy+ola5sQw5G0ZvvVQG29FVfxaqCbnQiW7VJV64VDG/hVNmT/WGcmCxx3hpDdkfbCLp5ClAlBlEun2f2sV2+wn/Nkw5keiWPVTGI/fEnrq0l/bRLnvMt/OK4B58fsk+TTVUAvRQ4SkXu2+uXZXPwmD+Zz+25P8Fqazzut9pke64V0Of7retsb8se7JBu1fiSC4lClUioP+1rS2aVWcBWtlDnojElk/tH+S2y9FvLTWNk/di0hZ/0jKrP2KM92w945+6pr9tGO4kVBF58Kk1w1frUmrZWgFZ7cu277+C8loiC9bUBPnOmrw7hV8u3KNN62sEc8/RE6yAmNdzfsgbkB+Pmgn7Z2grq1V71j/ok19ITZZVs0KeXzPCmIL2M3/IbP9Czdq6iLWedY/fLJQeCrUCtN5ACPer89ZcccFeBZrYhy6C3CqZjQhPHrRISPvGXXpIMZAhM41fBej6qDR3Ys4UT4zFO5CRbpJc6s0KeeyQUFGr5zH0VdCngrjhJrqoze42FLLqktzUH0SfOewlcHqv11EJ25nlc8m0vP413Un3IPk225QCVoK4XZMbuOYDs9avGoT+laiMwzoF2DpZlq+TQo0/SpTva2ztXgN2TyW0aS30r/7FN7bGO9nEu3/BBRfppa72fSDbWmSd6Yol2cJ5LDvQrv9Qny+axJBdr+So7NH9RRuev8JOOkfUZe7Rn/wHv3D31ddtoJ+MnuozdCvAI6AjYZimjOW/hhm0cCvzX9I1PMlq+ZRkSDwXLvAgyx8w/ayLelz1LNX1j4B+/+qX76GVcZKVPwT/jYqNKTBCUJNEueclJD+MtFfRIXjpbffLeiLYxN2pf0tPSf9Z9/Hu55ECQ4HhriYEpNimYzEEjbYxHcBgDyGxDDsjpxxg5oFUCEMeU7TnIRyYfWxMOdMcxNdaammA+cso+oiPLRHtj35hw0C+2xT75HDn6xrFzoC7d2JKfNHDNvEmGsTNnzSu11oH4ZH2SVXtVyzfqPP9Zfi+/rOfg60P2abIpB6gEgr0gM3bfGnAqyKzqrCvKKBAnOI/3W+cxoI/29s6lS2P1ZNXGe1MMoFvcer5pXOqYWKztQz9sQF7Be55T2uVXpZdEIcpUnNGNfchqHDhwHX1Az1KJNnC+VKJ8HCueR/uX9J3ZfsYe7dl7wDt3T33dNtLJHIQydmt8NmQOKmsP7nG35ee7rOcFgPlQIIt9BNcEtPHFq2cfgX1vDukbg27JxroKoLkXk4QoX50rwYhPM6IcutAZkxLa8T2WyEL96Sse1FkHY6s96tI56xhd6OF8qVQ2VLYs6RnZjn27CsEbASHzkANTrrlPYEoQt6a09BCQ5qAW/dxHt+zINpCExLHVTj8FzLQr4I1BsOylXf2quuqjvq0andEf/I52tvrpfkzC5IfaVEeZyu4cyNMvB/NVv3xPdmNHbuNaCUpu4360oZp7ZOIcMhZy3I/6mL+oSwxiLf3Ua8oefmv0viCze58WYxKExk/YYwDHOYGeAtWie7Nvr18reMSO2EYASTDL/RjgYkcOcrPdPZsrP9Afx0b/Fh30lw3oqQoy+CS5XNOW/awC/9wvX2O7Sms87ldt9JUNvM9l3bqWj8i0bKzmTXZRi1nld5TT+R5+6ju6PnKPrrF95zv3GtVtmZFOEtQyngI1BYkt6xSwbvkEvqXr3fdHcl7yVdyxqXWsZa4gvDcmuiTHeATgBNetYJ0XJNZK70mX1gb64pMIEik9scjjMB736KNEJdrNuAr6kUOGe5QlZlFPPkcnx9qCb/IBWzmPtqzVM0oOG3cVBZUxAGydt4LjPHAMKvWJODIkFnqSwf0YZOr+0thVu4LiqC/bxNjYFYPyNYFu1tMKzKNdWzhhg4L+PBbXtJHcxCA9BvG5Dz5GW5bO0Rv3BQzFSFxhR5Fu9dH9aEOUwc7MIvqRbZPeqC+ewwKZatwoF8+38ot9TzjfvU+TLTHIVjDZqgkMc1nTvxW4x77olhyBKtfUSwWZmHzQj2u91i/1V3vLZ91XgC35Vo0Pa2xHH3LSz3lrDHyR3JZaNtI/MxJb2YtebNAcqC91lsFOJSW0Rz8q+2jvFWxr+d7qt4VfS8fZ94/ao2vt3PnOvVZ9LTfSScYioFJRIKfrXBMk0oeA9e5lJOeRrHhxWpugrLFLiQFB/9KbgBKEmHSsGcMyxxKYdW0fS+kh2pY+4c/Bfkw6HoLoXW56n76L/HvGXfqEvwr232OpRxWB0Xv0EUmH4Kpegkw7Aejdy5Kfd/fvCPuVZMKqehKRx1DSseUpQtbh69cJeG2/znAKDTxZ4ElF7wkKn/7raQYJSH4aMQWIazrhfXrNeTnDKhIOPtknseg9EZCMnlqcYYt1ricweo9On3RUn173IMcgdP20XVOy5+c1LR5vlZ58wWrN0xN9BWmN7HhvnjOi1/Zz5rrpafwa1tLTC5ISEg6SD5dhBLxPh6F+60Dxq00kE73CV6b0xENfn+rJu+1cAqP36PRJB59I50+we5D1SbafdJy70K+iPSaZS1+pYx2xduLX9a7ix9Ps6O3hp7F4rL/x9xIkE3zNKv7+gScc3FPCQdLBPZdhBLxPh6F+60Dx6QUJBb9/yL+74DrKIePyfgKj9+j0SYc+yY6BYgWZ7/Ir4aB9hq/PVH6+f4lfzwLWBqw4SDziUwzWBT8U14/MY9v1PHmORV7bz5nrpqdLv+WISUnvx+jNAdzwKgHv01cJ3qM/75NLP9TW0w3q3tev7uHxPFaO3qPTJx0sDSUTfDVG5wSPHHx6zT2ebACfg3M+Ab97Gb2Y7syLtZDXAfy0Zkg8XK5DwGv7OnPxVkv4fQZfs4pPM3iiQcJBosHXrvx0421T5H36NvTDB9ZvOuJfoFKiQULCfb5OtfTHWoYb/vABR+/RRyQdrCklGwBeOmZIOPB59GJ6+N61+wMJeG0PhO2hTGAnAe/TneDczQQGERi9Rx+TdDB/8f9TAHQ+SExmSTjwd/RiGrRHPIwJeG17DZjADQj4PegGk2QTH01g9B59VNKhlUVioa9XqZ7xkd/oxSS+rk3gbAJe22cTtn4TeJ2A9+nrDK3BBM4kMHqPTp908MNgfrcRf0h+5gReSffoxXQl323L3AS8tueeX3s3BwHv0znm0V7MS2D0Hp0+6QAox9KfQ51xSY1eTDMytE/XJOC1fc15sVUmEAl4n0YaPjeB6xEYvUenTzr0V6muN9XnWzR6MZ3vkUcwgZ8IeG17JZjA9Ql4n15/jmzhswmM3qPTJx36Pxi2/MlTft/B/8tw9zJ6Md2dl+2/DwGv7fvMlS19LgHv0+fOvT2/B4HRe3T6pINp1/+/wI/G1xQlKmtkrywzejFdmYVtm4uA1/Zc82lv5iTgfTrnvNqreQiM3qPTJx0kECQb/CdvwCUB0T395apYxz+re/dlNXox3Z2X7b8PAa/t+8yVLX0uAe/T5869Pb8HgdF7dPqkgx+QA3XPcY8l07Zy9GJqW+IWEziWgNf2sTytzQTOIOB9egZV6zSB4wiM3qPTJx38nxxA3XMcN63v0TR6Mb3HS4/6RAJe20+cdft8NwLep3ebMdv7NAKj9+j0SQcLiKcdfL1qzf82zo/I9XTk7otv9GK6Oy/bfx8CXtv3mStb+lwC3qfPnXt7fg8Co/foI5IOfsNB0rG28LuO0ROx1rYtcjP4sMVfyz6HgNf2c+bant6XgPfpfefOlj+DwOg9+oikY8+fwOV/Mb97Gb2Y7s7L9t+HgNf2febKlj6XgPfpc+fent+DwOg9+oik4x5Tf7yVoxfT8R5YownUBLy2ay6+awJXIuB9eqXZsC0m8CWB0Xt0uqSDP3/LbzL4z/04+BO5a37L8eVU3P/O6MV0f2L24C4EvLbvMlO288kEvE+fPPv2/Q4ERu/RqZIOEgwAVgdtTyujF9PT+Nrf9xHw2n4fe49sAmsJeJ+uJWU5E3gPgdF7dJqkgyccwOsdM/xOY8uyHL2YtthmWRN4hYDX9iv03NcExhDwPh3D2aOYwF4Co/foNEmHnnJ89dVXP/6P4/pKFTXJBveBq/t7J+hO/UYvpjuxsa33JuC1fe/5s/XPIOB9+ox5tpf3JTB6j06TdPAncUks+EtVVSHZAO6TnnaMXkwVd98zgTMIeG2fQdU6TeBYAt6nx/K0NhM4msDoPTpN0gE4/j+OXiHh4MflTymjF9NTuNrP9xPw2n7/HNgCE1gi4H26RMjtJvBeAqP36FRJx9JXp/S0471TPG700YtpnGce6ekEvLafvgLs/x0IeJ/eYZZs45MJjN6jUyUdaxbOGsCzJCdrfF3DzDImcDUCXttXmxHbYwJfEvA+/ZKJ75jAlQiM3qNOOorZ11/CKppudWv0YroVHBt7awJe27eePhv/EALepw+ZaLt5WwKj9+ijkg6eYPCD86XCbz9GT8SSTXvaZ/Bhj9/uMz8Br+3559ge3p+A9+n959AezE1g9B6dKungh+Q8pWgdtJN0tNp1X39e9+5LbfRiujsv238fAl7b95krW/pcAt6nz517e34PAqP36FRJB/COPO6xZNpWjl5MbUvcYgLHEvDaPpantZnAGQS8T8+gap0mcByB0XvUSUcnUTluWt+jafRieo+XHvWJBLy2nzjr9vluBLxP7zZjtvdpBEbv0amSDr4Wxf9Mzm8y9h7099ernrbt7O/dCIx+obwbH9trAlcg4H16hVmwDSbQJjB6j06VdJAwHFHQM3oijrA765jBh+yTr00AAl7bXgcmcH0C3qfXnyNb+GwCo/foVEnHp0+fDlk96Bk9EYcYnpTM4ENyyZcm8CMBr20vBBO4PgHv0+vPkS18NoHRe3SqpOOHH344ZPWgZ/REHGJ4UjKDD8klX5rAjwS8tr0QTOD6BLxPrz9HtvDZBEbv0WmSjmcvm9r70YuptsJ3TeB4Al7bxzO1RhM4moD36dFErc8EjiUweo866Th2/i6lbfRiupTzNmZqAl7bU0+vnZuEgPfpJBNpN6YlMHqPOumYdin5x7YTT+3jXRv9Qvl44AZgAjsIeJ/ugOYuJjCQwOg96qRj4OSOHmr0Yhrtn8d7LgGv7efOvT2/DwHv0/vMlS19JoHRe9RJx8TrbPRimhilXbsYAa/ti02IzTGBgoD3aQHFt0zgQgRG71EnHRea/KNNGb2Yjrbf+kygRcBru0XG903gOgS8T68zF7bEBCoCo/eok45qFia5N3oxTYLNbtyAgNf2DSbJJj6egPfp45eAAVycwOg96qTj4gviFfNGL6ZXbHVfE9hCwGt7Cy3LmsB7CHifvoe7RzWBtQRG71EnHWtn5oZyoxfTDRHZ5JsS8Nq+6cTZ7EcR8D591HTb2RsSGL1HnXTccJGsNXn0Ylprl+VM4FUCXtuvEnR/EzifgPfp+Yw9ggm8QmD0HnXS8cpsXbzv6MV0cRw2byICXtsTTaZdmZaA9+m0U2vHJiEweo866Zhk4VRujF5MlQ2+ZwJnEPDaPoOqdZrAsQS8T4/laW0mcDSB0XvUScfRM3ghfaMX04VctymTE/DannyC7d4UBLxPp5hGOzExgdF71EmHF9PEBOzarARGv1DOytF+mcCZBLxPz6Rr3SbwOoHRe9RJx+tzdlkNoxfTZUHYsOkIeG1PN6V2aEIC3qcTTqpdmorA6D3qpGOq5fO5M6MX0+ej+8oEziPgtX0eW2s2gaMIeJ8eRdJ6TOAcAqP3qJOOc+bxElpHL6ZLOG0jHkHAa/sR02wnb07A+/TmE2jzpycweo866Zh4SY1eTBOjtGsXI+C1fbEJsTkmUBDwPi2g+JYJXIjA6D3qpONCk3+0KaMX09H2W58JtAh4bbfI+L4JXIeA9+l15sKWmEBFYPQeddJRzcIk90Yvpkmw2Y0bEPDavsEk2cTHE/A+ffwSMICLExi9R510XHxBvGLe6MX0iq3uawJbCHhtb6FlWRN4DwHv0/dw96gmsJbA6D3qpGPtzNxQbvRiuiEim3xTAl7bN504m/0oAt6nj5puO3tDAqP3qJOOGy6StSaPXkxr7bKcCbxKwGv7VYLubwLnE/A+PZ+xRzCBVwiM3qNOOl6ZrYv3Hb2YLo7D5k1EwGt7osm0K9MS8D6ddmrt2CQERu/RtyUdOOrDDLwGvAa8BrwGvAa8BrwGvAa8Bt6zBkbmT29JOkY66LFMwARMwARMwARMwARMwATeS8BJx3v5e3QTMAETMAETMAETMAETmJ6Ak47pp9gOmoAJmIAJmIAJmIAJmMB7CTjpeC9/j24CJmACJmACJmACJmAC0xNw0jH9FNtBEzABEzABEzABEzABE3gvAScd7+Xv0U3ABEzABEzABEzABExgegJOOqafYjtoAiZgAiZgAiZgAiZgAu8l4KTjvfw9ugmYgAmYgAmYgAmYgAlMT8BJx/RTbAdNwARMwARMwARMwARM4L0EnHS8l79HNwETMAETMAETMAETMIHpCTjpmH6K7aAJmIAJmIAJmIAJmIAJvJeAk4738vfoJmACJmACJmACJmACJjA9AScd00+xHTQBEzABEzABEzABEzCB9xJw0vFe/h7dBEzABEzABEzABEzABKYn4KRj+im2gyZgAiZgAiZgAiZgAibwXgJOOt7L36ObgAmYgAmYgAmYgAmYwPQEnHRMP8V20ARMwARMwARMwARMwATeS8BJx3v5e3QTMAETMAETMAETMAETmJ6Ak47pp9gOmoAJmIAJmIAJmIAJmMB7CTjpeC9/j24CJmACJmACJmACJmAC0xNw0jH9FNtBEzABEzABEzABEzABE3gvgf8Hoos5eE86rhgAAAAASUVORK5CYII=)"
      ]
    },
    {
      "cell_type": "markdown",
      "metadata": {
        "id": "R3Ls6AKQtidI",
        "colab_type": "text"
      },
      "source": [
        "## **Precision :**\n",
        "\n",
        "it is defined as the ratio of total number of correct predictions to number of values predicted correctly.\n",
        "\n",
        "# (TP/TP+FP)."
      ]
    },
    {
      "cell_type": "code",
      "metadata": {
        "id": "xzVlmuu8MR11",
        "colab_type": "code",
        "outputId": "b2bea201-f668-46a5-f62a-7bcf25867fc9",
        "colab": {
          "base_uri": "https://localhost:8080/",
          "height": 35
        }
      },
      "source": [
        "\n",
        "print(precision_score(y_test,y_pred,average='macro'))"
      ],
      "execution_count": 0,
      "outputs": [
        {
          "output_type": "stream",
          "text": [
            "1.0\n"
          ],
          "name": "stdout"
        }
      ]
    },
    {
      "cell_type": "markdown",
      "metadata": {
        "id": "CKyvkb2eu4DF",
        "colab_type": "text"
      },
      "source": [
        "# *Note:*\n",
        "\n",
        "for all kernel types(linear,rbf..) the confusion matrix,acuracy score,precision score is same.."
      ]
    },
    {
      "cell_type": "code",
      "metadata": {
        "id": "5FfDr53fvIe1",
        "colab_type": "code",
        "colab": {}
      },
      "source": [
        ""
      ],
      "execution_count": 0,
      "outputs": []
    }
  ]
}